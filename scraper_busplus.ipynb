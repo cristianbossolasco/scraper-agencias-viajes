{
  "nbformat": 4,
  "nbformat_minor": 0,
  "metadata": {
    "colab": {
      "provenance": [],
      "include_colab_link": true
    },
    "kernelspec": {
      "name": "python3",
      "display_name": "Python 3"
    },
    "language_info": {
      "name": "python"
    }
  },
  "cells": [
    {
      "cell_type": "markdown",
      "metadata": {
        "id": "view-in-github",
        "colab_type": "text"
      },
      "source": [
        "<a href=\"https://colab.research.google.com/github/cristianbossolasco/scraper-agencias-viajes/blob/main/scraper_busplus.ipynb\" target=\"_parent\"><img src=\"https://colab.research.google.com/assets/colab-badge.svg\" alt=\"Open In Colab\"/></a>"
      ]
    },
    {
      "cell_type": "code",
      "execution_count": null,
      "metadata": {
        "id": "1VMonPRy4f6J"
      },
      "outputs": [],
      "source": [
        "%%shell\n",
        "# Ubuntu no longer distributes chromium-browser outside of snap\n",
        "#\n",
        "# Proposed solution: https://askubuntu.com/questions/1204571/how-to-install-chromium-without-snap\n",
        "\n",
        "# Add debian buster\n",
        "cat > /etc/apt/sources.list.d/debian.list <<'EOF'\n",
        "deb [arch=amd64 signed-by=/usr/share/keyrings/debian-buster.gpg] http://deb.debian.org/debian buster main\n",
        "deb [arch=amd64 signed-by=/usr/share/keyrings/debian-buster-updates.gpg] http://deb.debian.org/debian buster-updates main\n",
        "deb [arch=amd64 signed-by=/usr/share/keyrings/debian-security-buster.gpg] http://deb.debian.org/debian-security buster/updates main\n",
        "EOF\n",
        "\n",
        "# Add keys\n",
        "apt-key adv --keyserver keyserver.ubuntu.com --recv-keys DCC9EFBF77E11517\n",
        "apt-key adv --keyserver keyserver.ubuntu.com --recv-keys 648ACFD622F3D138\n",
        "apt-key adv --keyserver keyserver.ubuntu.com --recv-keys 112695A0E562B32A\n",
        "\n",
        "apt-key export 77E11517 | gpg --dearmour -o /usr/share/keyrings/debian-buster.gpg\n",
        "apt-key export 22F3D138 | gpg --dearmour -o /usr/share/keyrings/debian-buster-updates.gpg\n",
        "apt-key export E562B32A | gpg --dearmour -o /usr/share/keyrings/debian-security-buster.gpg\n",
        "\n",
        "# Prefer debian repo for chromium* packages only\n",
        "# Note the double-blank lines between entries\n",
        "cat > /etc/apt/preferences.d/chromium.pref << 'EOF'\n",
        "Package: *\n",
        "Pin: release a=eoan\n",
        "Pin-Priority: 500\n",
        "\n",
        "\n",
        "Package: *\n",
        "Pin: origin \"deb.debian.org\"\n",
        "Pin-Priority: 300\n",
        "\n",
        "\n",
        "Package: chromium*\n",
        "Pin: origin \"deb.debian.org\"\n",
        "Pin-Priority: 700\n",
        "EOF\n",
        "\n",
        "# Install chromium and chromium-driver\n",
        "apt-get update\n",
        "apt-get install chromium chromium-driver\n",
        "\n",
        "# Install selenium\n",
        "pip install selenium"
      ]
    },
    {
      "cell_type": "code",
      "source": [
        "from selenium import webdriver\n",
        "from selenium.webdriver.chrome.options import Options\n",
        "from selenium.webdriver.common.by import By"
      ],
      "metadata": {
        "id": "AJ_JSA8pVx--"
      },
      "execution_count": 2,
      "outputs": []
    },
    {
      "cell_type": "markdown",
      "source": [
        "\n",
        "\n",
        "```\n",
        "from selenium import webdriver\n",
        "from selenium.webdriver.chrome.options import Options\n",
        "\n",
        "url = \"http://example.com\" \n",
        "options = Options()\n",
        "options.add_argument(\"--headless\")\n",
        "options.add_argument(\"--no-sandbox\")\n",
        "\n",
        "options.headless = True\n",
        "\n",
        "driver = webdriver.Chrome(\"/usr/bin/chromedriver\", options=options)\n",
        "\n",
        "driver.get(url)\n",
        "print(driver.title)\n",
        "driver.quit()\n",
        "\n",
        "```\n",
        "\n",
        "\n"
      ],
      "metadata": {
        "id": "X8rG_w9Lzgmk"
      }
    },
    {
      "cell_type": "code",
      "source": [
        "origen_parada=28\n",
        "destino_parada=176\n",
        "fecha_ida='2023/01/28'\n",
        "\n",
        "url = f'https://checkout.busplus.com.ar/servicios?origen_parada={origen_parada}&destino_parada={destino_parada}&fecha_ida={fecha_ida}&fecha_vuelta=&pasajeros=1&empresa=&cupondescuento='\n",
        "\n",
        "options = Options()\n",
        "options.add_argument(\"--headless\")\n",
        "options.add_argument(\"--no-sandbox\")\n",
        "\n",
        "options.headless = True\n",
        "\n",
        "driver = webdriver.Chrome(\"/usr/bin/chromedriver\", options=options)\n",
        "\n",
        "driver.get(url)\n",
        "#print(driver.title)\n",
        "#driver.quit()"
      ],
      "metadata": {
        "id": "f7AV0qXIbrKh",
        "outputId": "dffc5b58-97d4-40b9-b9c2-0119d84a9a95",
        "colab": {
          "base_uri": "https://localhost:8080/"
        }
      },
      "execution_count": 3,
      "outputs": [
        {
          "output_type": "stream",
          "name": "stderr",
          "text": [
            "<ipython-input-3-5f5d490bc74f>:13: DeprecationWarning: executable_path has been deprecated, please pass in a Service object\n",
            "  driver = webdriver.Chrome(\"/usr/bin/chromedriver\", options=options)\n"
          ]
        }
      ]
    },
    {
      "cell_type": "code",
      "source": [
        "def get_data(origen_parada, destino_parada, fecha_ida):\n",
        "  url = f'https://checkout.busplus.com.ar/servicios?origen_parada={origen_parada}&destino_parada={destino_parada}&fecha_ida={fecha_ida}&fecha_vuelta=&pasajeros=1&empresa=&cupondescuento='\n",
        "\n",
        "  options = Options()\n",
        "  options.add_argument(\"--headless\")\n",
        "  options.add_argument(\"--no-sandbox\")\n",
        "\n",
        "  options.headless = True\n",
        "\n",
        "  driver = webdriver.Chrome(\"/usr/bin/chromedriver\", options=options)\n",
        "\n",
        "  driver.get(url)\n",
        "\n",
        "  INDEX_EMPRESA = 0\n",
        "  INDEX_SALIDA = 1\n",
        "  INDEX_LLEGADA = 3\n",
        "  INDEX_ESCALA = 4\n",
        "  INDEX_DURACION = 5\n",
        "  INDEX_CATEGORIA = 6\n",
        "  INDEX_PRECIO = 8\n",
        "  # get_attribute('innerHTML') para obtener el html\n",
        "\n",
        "  items = []\n",
        "\n",
        "  filas  = driver.find_elements(By.CLASS_NAME,\"fila_servicio.servicio_fila.idatr\")\n",
        "  for fila in filas:\n",
        "    if not \"hide \" in fila.get_attribute(name=\"class\"):\n",
        "      id = fila.get_attribute('id')\n",
        "      list_td = fila.find_elements(By.TAG_NAME,\"td\")\n",
        "\n",
        "      empresa_img = list_td[INDEX_EMPRESA].find_element(By.TAG_NAME, 'img').get_attribute('src')\n",
        "      salida = list_td[INDEX_SALIDA].text.replace('\\n', ' ')\n",
        "      llegada = list_td[INDEX_LLEGADA].text.replace('\\n', ' ')\n",
        "      escala = list_td[INDEX_ESCALA].find_elements(By.TAG_NAME,\"a\")[0].get_attribute('text')\n",
        "      duracion = list_td[INDEX_DURACION].get_attribute('innerHTML').strip()\n",
        "      xpath_categoria = f'//*[@id=\"{id}\"]/td[7]/ul/li[1]'\n",
        "      categoria = driver.find_element(By.XPATH, xpath_categoria).text\n",
        "      xpath_butaca = f'//*[@id=\"{id}\"]/td[8]/ul/li[1]'\n",
        "      butacas_libres = driver.find_element(By.XPATH, xpath_butaca).text\n",
        "      xpath_precio = f'//*[@id=\"{id}\"]/td[9]/ul/li[1]/span'\n",
        "      precio = driver.find_element(By.XPATH, xpath_precio).text\n",
        "\n",
        "\n",
        "      item_json = {\n",
        "          \"origen_parada\": origen_parada,\n",
        "          \"destino_parada\": destino_parada,\n",
        "          \"fecha_ida\": fecha_ida,\n",
        "          \"empresa_img\": empresa_img,\n",
        "          \"salida\": salida,\n",
        "          \"llegada\": llegada,\n",
        "          \"escala\": escala,\n",
        "          \"duracion\": duracion,\n",
        "          \"categoria\": categoria,\n",
        "          \"butacas_libres\": butacas_libres,\n",
        "          \"precio\": precio\n",
        "      }\n",
        "\n",
        "      items.append(item_json)\n",
        "\n",
        "  driver.quit()\n",
        "  return items\n"
      ],
      "metadata": {
        "id": "1vQxcAe4ckDL"
      },
      "execution_count": 29,
      "outputs": []
    },
    {
      "cell_type": "code",
      "source": [
        "get_data(28, 176, '2023/01/30')"
      ],
      "metadata": {
        "colab": {
          "base_uri": "https://localhost:8080/"
        },
        "id": "SHK-dgOd-gSb",
        "outputId": "705a7c42-eaff-4b0f-fb69-b8e752b15c60"
      },
      "execution_count": 30,
      "outputs": [
        {
          "output_type": "stream",
          "name": "stderr",
          "text": [
            "<ipython-input-29-aa25ba0ef6bf>:10: DeprecationWarning: executable_path has been deprecated, please pass in a Service object\n",
            "  driver = webdriver.Chrome(\"/usr/bin/chromedriver\", options=options)\n"
          ]
        },
        {
          "output_type": "execute_result",
          "data": {
            "text/plain": [
              "[{'origen_parada': 28,\n",
              "  'destino_parada': 176,\n",
              "  'fecha_ida': '2023/01/30',\n",
              "  'empresa_img': 'https://checkout.busplus.com.ar/images/v2/empresas/50.png',\n",
              "  'salida': '11:15 Lun 30/01',\n",
              "  'llegada': '18:10 Lun 30/01',\n",
              "  'escala': 'Directo ',\n",
              "  'duracion': '06:55hs',\n",
              "  'categoria': 'Estandar',\n",
              "  'butacas_libres': '37',\n",
              "  'precio': '$5400'},\n",
              " {'origen_parada': 28,\n",
              "  'destino_parada': 176,\n",
              "  'fecha_ida': '2023/01/30',\n",
              "  'empresa_img': 'https://checkout.busplus.com.ar/images/v2/empresas/50.png',\n",
              "  'salida': '16:40 Lun 30/01',\n",
              "  'llegada': '23:35 Lun 30/01',\n",
              "  'escala': 'Directo ',\n",
              "  'duracion': '06:55hs',\n",
              "  'categoria': 'Semi Cama',\n",
              "  'butacas_libres': '10',\n",
              "  'precio': '$6250'},\n",
              " {'origen_parada': 28,\n",
              "  'destino_parada': 176,\n",
              "  'fecha_ida': '2023/01/30',\n",
              "  'empresa_img': 'https://checkout.busplus.com.ar/images/v2/empresas/78.png',\n",
              "  'salida': '12:30 Lun 30/01',\n",
              "  'llegada': '22:20 Lun 30/01',\n",
              "  'escala': 'Transbordo ',\n",
              "  'duracion': '09:50hs',\n",
              "  'categoria': 'Cama Ejecutivo',\n",
              "  'butacas_libres': '41',\n",
              "  'precio': '$6625'},\n",
              " {'origen_parada': 28,\n",
              "  'destino_parada': 176,\n",
              "  'fecha_ida': '2023/01/30',\n",
              "  'empresa_img': 'https://checkout.busplus.com.ar/images/v2/empresas/78.png',\n",
              "  'salida': '08:30 Lun 30/01',\n",
              "  'llegada': '18:10 Lun 30/01',\n",
              "  'escala': 'Transbordo ',\n",
              "  'duracion': '09:40hs',\n",
              "  'categoria': 'Cama Ejecutivo',\n",
              "  'butacas_libres': '40',\n",
              "  'precio': '$5830'},\n",
              " {'origen_parada': 28,\n",
              "  'destino_parada': 176,\n",
              "  'fecha_ida': '2023/01/30',\n",
              "  'empresa_img': 'https://checkout.busplus.com.ar/images/v2/empresas/50.png',\n",
              "  'salida': '11:15 Lun 30/01',\n",
              "  'llegada': '22:20 Lun 30/01',\n",
              "  'escala': 'Transbordo ',\n",
              "  'duracion': '11:05hs',\n",
              "  'categoria': 'Estandar',\n",
              "  'butacas_libres': '37',\n",
              "  'precio': '$5675'},\n",
              " {'origen_parada': 28,\n",
              "  'destino_parada': 176,\n",
              "  'fecha_ida': '2023/01/30',\n",
              "  'empresa_img': 'https://checkout.busplus.com.ar/images/v2/empresas/50.png',\n",
              "  'salida': '11:15 Lun 30/01',\n",
              "  'llegada': '22:20 Lun 30/01',\n",
              "  'escala': 'Transbordo ',\n",
              "  'duracion': '11:05hs',\n",
              "  'categoria': 'Estandar',\n",
              "  'butacas_libres': '37',\n",
              "  'precio': '$7150'},\n",
              " {'origen_parada': 28,\n",
              "  'destino_parada': 176,\n",
              "  'fecha_ida': '2023/01/30',\n",
              "  'empresa_img': 'https://checkout.busplus.com.ar/images/v2/empresas/78.png',\n",
              "  'salida': '10:30 Lun 30/01',\n",
              "  'llegada': '22:20 Lun 30/01',\n",
              "  'escala': 'Transbordo ',\n",
              "  'duracion': '11:50hs',\n",
              "  'categoria': 'Cama Ejecutivo',\n",
              "  'butacas_libres': '39',\n",
              "  'precio': '$6625'},\n",
              " {'origen_parada': 28,\n",
              "  'destino_parada': 176,\n",
              "  'fecha_ida': '2023/01/30',\n",
              "  'empresa_img': 'https://checkout.busplus.com.ar/images/v2/empresas/78.png',\n",
              "  'salida': '08:30 Lun 30/01',\n",
              "  'llegada': '22:20 Lun 30/01',\n",
              "  'escala': 'Transbordo ',\n",
              "  'duracion': '13:50hs',\n",
              "  'categoria': 'Cama Ejecutivo',\n",
              "  'butacas_libres': '40',\n",
              "  'precio': '$6625'}]"
            ]
          },
          "metadata": {},
          "execution_count": 30
        }
      ]
    },
    {
      "cell_type": "code",
      "source": [
        "list_td[INDEX_CATEGORIA].find_element(By.CLASS_NAME,\"barato\").get_attribute('text')\n"
      ],
      "metadata": {
        "id": "-PZx5CJzbEaY"
      },
      "execution_count": 6,
      "outputs": []
    }
  ]
}