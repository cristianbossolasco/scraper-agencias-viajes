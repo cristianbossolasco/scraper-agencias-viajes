{
  "nbformat": 4,
  "nbformat_minor": 0,
  "metadata": {
    "colab": {
      "provenance": [],
      "authorship_tag": "ABX9TyPMCY5jqJWS7iwvgjqYWnHC",
      "include_colab_link": true
    },
    "kernelspec": {
      "name": "python3",
      "display_name": "Python 3"
    },
    "language_info": {
      "name": "python"
    }
  },
  "cells": [
    {
      "cell_type": "markdown",
      "metadata": {
        "id": "view-in-github",
        "colab_type": "text"
      },
      "source": [
        "<a href=\"https://colab.research.google.com/github/cristianbossolasco/scraper-agencias-viajes/blob/main/scraper_busplus_Metodo_2.ipynb\" target=\"_parent\"><img src=\"https://colab.research.google.com/assets/colab-badge.svg\" alt=\"Open In Colab\"/></a>"
      ]
    },
    {
      "cell_type": "code",
      "execution_count": 8,
      "metadata": {
        "id": "A5Mu1a7oS5Qr"
      },
      "outputs": [],
      "source": [
        "import requests\n",
        "from bs4 import BeautifulSoup\n",
        "import pandas as pd"
      ]
    },
    {
      "cell_type": "code",
      "source": [
        "cookies = {\n",
        "    'PHPSESSID': '7e0pun37bri6ug9d7cjplt2go1',\n",
        "    '_gcl_au': '1.1.221184495.1673986995',\n",
        "    '_ga': 'GA1.3.1939397318.1673986995',\n",
        "    '__kdtv': 't%3D1660862112056%3Bi%3Dd0442c6420be5f78429dfd64e3eed10309f3eb51',\n",
        "    '_kdt': '%7B%22t%22%3A1660862112056%2C%22i%22%3A%22d0442c6420be5f78429dfd64e3eed10309f3eb51%22%7D',\n",
        "    '_gid': 'GA1.3.1542121663.1674650025',\n",
        "    'ci_session': 'a%3A9%3A%7Bs%3A10%3A%22session_id%22%3Bs%3A32%3A%2267450ed8f223c23846561e08e48d7923%22%3Bs%3A10%3A%22ip_address%22%3Bs%3A13%3A%22192.168.1.165%22%3Bs%3A10%3A%22user_agent%22%3Bs%3A111%3A%22Mozilla%2F5.0+%28Windows+NT+10.0%3B+Win64%3B+x64%29+AppleWebKit%2F537.36+%28KHTML%2C+like+Gecko%29+Chrome%2F109.0.0.0+Safari%2F537.36%22%3Bs%3A13%3A%22last_activity%22%3Bi%3A1674786410%3Bs%3A9%3A%22user_data%22%3Bs%3A0%3A%22%22%3Bs%3A5%3A%22login%22%3Bb%3A1%3Bs%3A7%3A%22usuario%22%3Bs%3A11%3A%22Busplus.com%22%3Bs%3A7%3A%22agencia%22%3Bs%3A11%3A%22WEB+BusPlus%22%3Bs%3A3%3A%22key%22%3Bs%3A36%3A%2251960784-05D8-4F15-B615-C13A9DFC73DA%22%3B%7Df10e71c2107241d3665b41cf270de84252e89889',\n",
        "    '_gat_gtag_UA_33580657_1': '1',\n",
        "}\n",
        "\n",
        "headers = {\n",
        "    'authority': 'checkout.busplus.com.ar',\n",
        "    'accept': 'text/plain, */*; q=0.01',\n",
        "    'accept-language': 'es-ES,es;q=0.9,en;q=0.8',\n",
        "    'content-type': 'application/x-www-form-urlencoded; charset=UTF-8',\n",
        "    # 'cookie': 'PHPSESSID=7e0pun37bri6ug9d7cjplt2go1; _gcl_au=1.1.221184495.1673986995; _ga=GA1.3.1939397318.1673986995; __kdtv=t%3D1660862112056%3Bi%3Dd0442c6420be5f78429dfd64e3eed10309f3eb51; _kdt=%7B%22t%22%3A1660862112056%2C%22i%22%3A%22d0442c6420be5f78429dfd64e3eed10309f3eb51%22%7D; _gid=GA1.3.1542121663.1674650025; ci_session=a%3A9%3A%7Bs%3A10%3A%22session_id%22%3Bs%3A32%3A%2267450ed8f223c23846561e08e48d7923%22%3Bs%3A10%3A%22ip_address%22%3Bs%3A13%3A%22192.168.1.165%22%3Bs%3A10%3A%22user_agent%22%3Bs%3A111%3A%22Mozilla%2F5.0+%28Windows+NT+10.0%3B+Win64%3B+x64%29+AppleWebKit%2F537.36+%28KHTML%2C+like+Gecko%29+Chrome%2F109.0.0.0+Safari%2F537.36%22%3Bs%3A13%3A%22last_activity%22%3Bi%3A1674786410%3Bs%3A9%3A%22user_data%22%3Bs%3A0%3A%22%22%3Bs%3A5%3A%22login%22%3Bb%3A1%3Bs%3A7%3A%22usuario%22%3Bs%3A11%3A%22Busplus.com%22%3Bs%3A7%3A%22agencia%22%3Bs%3A11%3A%22WEB+BusPlus%22%3Bs%3A3%3A%22key%22%3Bs%3A36%3A%2251960784-05D8-4F15-B615-C13A9DFC73DA%22%3B%7Df10e71c2107241d3665b41cf270de84252e89889; _gat_gtag_UA_33580657_1=1',\n",
        "    'origin': 'https://checkout.busplus.com.ar',\n",
        "    'referer': 'https://checkout.busplus.com.ar/servicios',\n",
        "    'sec-ch-ua': '\"Not_A Brand\";v=\"99\", \"Google Chrome\";v=\"109\", \"Chromium\";v=\"109\"',\n",
        "    'sec-ch-ua-mobile': '?0',\n",
        "    'sec-ch-ua-platform': '\"Windows\"',\n",
        "    'sec-fetch-dest': 'empty',\n",
        "    'sec-fetch-mode': 'cors',\n",
        "    'sec-fetch-site': 'same-origin',\n",
        "    'user-agent': 'Mozilla/5.0 (Windows NT 10.0; Win64; x64) AppleWebKit/537.36 (KHTML, like Gecko) Chrome/109.0.0.0 Safari/537.36',\n",
        "    'x-requested-with': 'XMLHttpRequest',\n",
        "}\n",
        "\n",
        "data = {\n",
        "    'combinaciones_ida': '0',\n",
        "    'combinaciones_vuelta': '0',\n",
        "    'origen_parada': '28',\n",
        "    'destino_parada': '176',\n",
        "    'fecha_ida': '27/01/2023',\n",
        "    'fecha_ida_txt': '',\n",
        "    'fechaFiltroIda': '0',\n",
        "    'lugarPrecioIda': '0',\n",
        "    'fecha_vuelta': '',\n",
        "    'fecha_vuelta_txt': '',\n",
        "    'fechaFiltroVuelta': '0',\n",
        "    'lugarPrecioVuelta': '0',\n",
        "    'solPersona': '1',\n",
        "    'cupondescuento': '',\n",
        "}\n",
        "\n",
        "response = requests.post('https://checkout.busplus.com.ar/servicios/obtenerServicios', cookies=cookies, headers=headers, data=data)"
      ],
      "metadata": {
        "id": "uHcADyNlyBSq"
      },
      "execution_count": 22,
      "outputs": []
    },
    {
      "cell_type": "code",
      "source": [
        "s = BeautifulSoup(response.content, 'html.parser') \n",
        "textarea = s.find_all('textarea')[0]\n",
        "textarea.text"
      ],
      "metadata": {
        "colab": {
          "base_uri": "https://localhost:8080/",
          "height": 91
        },
        "id": "dof0ylXiVsb3",
        "outputId": "88e86941-8df9-4544-f775-a7ef63c7f235"
      },
      "execution_count": 23,
      "outputs": [
        {
          "output_type": "execute_result",
          "data": {
            "text/plain": [
              "' [{\"id\":5,\"idtramo\":3,\"idcombinacion\":0,\"idempresa\":233,\"idpermisionario\":1,\"idorigen\":28,\"iddestino\":176,\"descripcion_empresa\":\"Via Tac VB\",\"descripcion_web\":\"Via Bariloche\",\"descripcion_permisionario\":\"Via Bariloche S.A.\",\"descripcion_origen\":\"(BUE) Retiro - Terminal \",\"descripcion_destino\":\"Parana - Terminal\",\"fecha_sale\":\"2023-01-27 11:15:00.000\",\"fecha_llega\":\"2023-01-27 18:10:00.000\",\"disponible\":1,\"tipo\":0,\"longitud\":\"614.00\",\"idclase\":\"SP\",\"clase\":\"Servicio Publico\",\"horas_bloqueo\":null,\"combinacion_orden\":null,\"combinacion_espera\":null,\"idcoche\":\"T46968    \",\"directo\":1,\"codigo_viaje\":\"2025968\",\"activo\":1,\"flexible\":0,\"demorado\":null,\"combinacion_duracion\":\"18:37\",\"duracion\":\"06:55\",\"categorias\":[{\"idcategoria\":\"CA\",\"descripcion_categoria\":\"Estandar\",\"importe\":\"5400.00\",\"butacas_libres\":18,\"idpromocion\":null,\"idcategoria_original\":null,\"importe_original\":null}],\"vuelos\":[],\"recorrido\":{\"status\":false,\"message\":\"Acceso Denegado - M\\\\u00e9todo inexistente\"}},{\"id\":6,\"idtramo\":3,\"idcombinacion\":0,\"idempresa\":1,\"idpermisionario\":1,\"idorigen\":28,\"iddestino\":176,\"descripcion_empresa\":\"Via Bariloche S.A.\",\"descripcion_web\":\"Via Bariloche\",\"descripcion_permisionario\":\"Via Bariloche S.A.\",\"descripcion_origen\":\"(BUE) Retiro - Terminal \",\"descripcion_destino\":\"Parana - Terminal\",\"fecha_sale\":\"2023-01-27 16:40:00.000\",\"fecha_llega\":\"2023-01-27 23:35:00.000\",\"disponible\":1,\"tipo\":0,\"longitud\":\"614.00\",\"idclase\":\"SP\",\"clase\":\"Servicio Publico\",\"horas_bloqueo\":null,\"combinacion_orden\":null,\"combinacion_espera\":null,\"idcoche\":\"G42962    \",\"directo\":1,\"codigo_viaje\":\"2000959\",\"activo\":1,\"flexible\":0,\"demorado\":null,\"combinacion_duracion\":\"24:02\",\"duracion\":\"06:55\",\"categorias\":[{\"idcategoria\":\"CE\",\"descripcion_categoria\":\"Cama Ejecutivo\",\"importe\":\"7050.00\",\"butacas_libres\":33,\"idpromocion\":null,\"idcategoria_original\":null,\"importe_original\":null},{\"idcategoria\":\"SE\",\"descripcion_categoria\":\"Semi Cama\",\"importe\":\"6250.00\",\"butacas_libres\":5,\"idpromocion\":null,\"idcategoria_original\":null,\"importe_original\":null}],\"vuelos\":[],\"recorrido\":{\"status\":false,\"message\":\"Acceso Denegado - M\\\\u00e9todo inexistente\"}}]'"
            ],
            "application/vnd.google.colaboratory.intrinsic+json": {
              "type": "string"
            }
          },
          "metadata": {},
          "execution_count": 23
        }
      ]
    }
  ]
}